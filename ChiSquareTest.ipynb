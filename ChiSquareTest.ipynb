{
 "cells": [
  {
   "cell_type": "code",
   "execution_count": 9,
   "metadata": {},
   "outputs": [],
   "source": [
    "import pandas as pd\n",
    "import numpy as np\n",
    "from scipy import stats\n",
    "import seaborn as sns\n",
    "import matplotlib.pyplot as plt"
   ]
  },
  {
   "cell_type": "code",
   "execution_count": 10,
   "metadata": {},
   "outputs": [],
   "source": [
    "class ChiSquareTest:\n",
    "    def __init__(self, df):\n",
    "        self.df = df\n",
    "\n",
    "    def test_independence(self):\n",
    "        results = []\n",
    "\n",
    "        # 빈도 표 작성\n",
    "        crosstab = pd.crosstab(self.df['group'], self.df['value'])\n",
    "        \n",
    "        # 기대 빈도 계산\n",
    "        chi2_stat, p_val, dof, expected = stats.chi2_contingency(crosstab)\n",
    "\n",
    "        # 기대 빈도가 5 미만인 셀 확인\n",
    "        if np.any(expected < 5):\n",
    "            # 기대 빈도가 5 미만인 경우 피셔의 정확 검정 사용\n",
    "            results.append(expected)\n",
    "            if crosstab.shape == (2, 2):  # 피셔의 정확 검정은 2x2 표에서만 사용 가능\n",
    "                fisher_stat, fisher_p = stats.fisher_exact(crosstab)\n",
    "                results.append(f\"----------\\nPrior Test - f<5 in at least one cell\\nResult (Fisher's Exact Test) - p-value: {fisher_p:.4f}\")\n",
    "            else:\n",
    "                results.append(\"Fisher's Exact Test is not applicable for tables larger than 2x2.\")\n",
    "        else:\n",
    "            # 기대 빈도가 모두 5 이상인 경우 카이제곱 검정 사용\n",
    "            results.append(expected)\n",
    "            results.append(f\"----------\\nPrior Test - f>=5 in all cells\\nResult (Chi-Square Test) - Chi2 Statistic: {chi2_stat:.4f}, p-value: {p_val:.4f}\")\n",
    "        \n",
    "        return results\n",
    "\n",
    "    def bar_plot(self, title=None):\n",
    "        # group 컬럼이 존재하는지 확인\n",
    "        if 'group' in self.df.columns:\n",
    "            # 막대 그래프\n",
    "            fig, ax = plt.subplots(figsize=(8, 6))\n",
    "            sns.countplot(x='group', hue='value', data=self.df, ax=ax)\n",
    "        else:\n",
    "            raise ValueError(\"The dataframe must contain a 'group' column.\")\n",
    "        \n",
    "        # 제목\n",
    "        if title:\n",
    "            plt.title(title)\n",
    "        \n",
    "        plt.show()"
   ]
  },
  {
   "cell_type": "code",
   "execution_count": 11,
   "metadata": {},
   "outputs": [
    {
     "name": "stdout",
     "output_type": "stream",
     "text": [
      "[[7.93333333 6.06666667]\n",
      " [9.06666667 6.93333333]]\n",
      "----------\n",
      "Prior Test - f>=5 in all cells\n",
      "Result (Chi-Square Test) - Chi2 Statistic: 0.1024, p-value: 0.7489\n"
     ]
    },
    {
     "data": {
      "image/png": "[encoded data removed]",
      "text/plain": [
       "<Figure size 800x600 with 1 Axes>"
      ]
     },
     "metadata": {},
     "output_type": "display_data"
    }
   ],
   "source": [
    "# 예시 데이터\n",
    "data = {\n",
    "    'group': ['A', 'A', 'A', 'A', 'A', 'A', 'A', 'A', 'A', 'A', 'A', 'A', 'A', 'A', 'B', 'B', 'B', 'B', 'B', 'B', 'B', 'B', 'B', 'B', 'B', 'B', 'B', 'B', 'B', 'B'],\n",
    "    'value': ['yes', 'no', 'yes', 'no', 'yes', 'no', 'yes', 'no', 'yes', 'no', 'no', 'yes', 'no', 'yes', 'no', 'no', 'yes', 'no', 'yes', 'no', 'no', 'yes', 'no', 'yes', 'no', 'no', 'yes', 'no', 'yes', 'no']\n",
    "}\n",
    "\n",
    "df = pd.DataFrame(data)\n",
    "\n",
    "chi_square_test = ChiSquareTest(df)\n",
    "results = chi_square_test.test_independence()\n",
    "for result in results:\n",
    "    print(result)\n",
    "\n",
    "chi_square_test.bar_plot()"
   ]
  }
 ],
 "metadata": {
  "kernelspec": {
   "display_name": "basic_env",
   "language": "python",
   "name": "python3"
  },
  "language_info": {
   "codemirror_mode": {
    "name": "ipython",
    "version": 3
   },
   "file_extension": ".py",
   "mimetype": "text/x-python",
   "name": "python",
   "nbconvert_exporter": "python",
   "pygments_lexer": "ipython3",
   "version": "3.8.17"
  }
 },
 "nbformat": 4,
 "nbformat_minor": 2
}
