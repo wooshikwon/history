{
 "cells": [
  {
   "cell_type": "code",
   "execution_count": 1,
   "metadata": {},
   "outputs": [
    {
     "name": "stdout",
     "output_type": "stream",
     "text": [
      "Intel MKL WARNING: Support of Intel(R) Streaming SIMD Extensions 4.2 (Intel(R) SSE4.2) enabled only processors has been deprecated. Intel oneAPI Math Kernel Library 2025.0 will require Intel(R) Advanced Vector Extensions (Intel(R) AVX) instructions.\n",
      "Intel MKL WARNING: Support of Intel(R) Streaming SIMD Extensions 4.2 (Intel(R) SSE4.2) enabled only processors has been deprecated. Intel oneAPI Math Kernel Library 2025.0 will require Intel(R) Advanced Vector Extensions (Intel(R) AVX) instructions.\n"
     ]
    }
   ],
   "source": [
    "import config\n",
    "from packages import *"
   ]
  },
  {
   "cell_type": "code",
   "execution_count": 2,
   "metadata": {},
   "outputs": [],
   "source": [
    "import os\n",
    "import datetime\n",
    "import pandas as pd"
   ]
  },
  {
   "cell_type": "code",
   "execution_count": 3,
   "metadata": {},
   "outputs": [],
   "source": [
    "class dataload:\n",
    "    def __init__(self, path_class):\n",
    "        self.path_class = path_class\n",
    "        self.raw_path = self.path_class.raw_path\n",
    "        self.ymd = format_date(path_class.ymd)\n",
    "\n",
    "    def data_load_save(self):\n",
    "        query_list = ['hq_profit', 'market_size', 'new_hurbs', 'churned_hurbs', 'new_b2bstores', 'churned_b2bstores']\n",
    "\n",
    "        for name in query_list:\n",
    "            \n",
    "            query_name = f'{name}_query'\n",
    "            file_path = os.path.join(self.raw_path, f'{name}_{self.ymd}.csv')\n",
    "\n",
    "            if not os.path.isfile(file_path):\n",
    "                query_function = getattr(config.query, query_name)\n",
    "                raw_df = pd.read_sql_query(query_function(self.ymd), config.security.aws_conn)\n",
    "                raw_df.to_csv(file_path, index=False)  # Save using the full path\n",
    "            else:\n",
    "                raw_df = pd.read_csv(file_path, index_col=False)  # Use the full path here, correct index_col to index\n",
    "\n",
    "    def __call__(self):\n",
    "        self.data_load_save()"
   ]
  },
  {
   "cell_type": "code",
   "execution_count": 4,
   "metadata": {},
   "outputs": [],
   "source": [
    "# config.py의 path Class\n",
    "# packages, __init__.py의 Logger를 얻는 함수.\n",
    "def path_class(ymd):\n",
    "    file_class = config.path_class(ymd)\n",
    "    '''\n",
    "    'os.path.basename(os.path.abspath(__file__)) \n",
    "    이 코드는 현재 실행 중인 Python 파일의 절대 경로에서 파일 이름을 추출하는 역할을 합니다. \n",
    "    각 부분을 자세히 살펴보면:\n",
    "\n",
    "\t\t__file__ - 이것은 현재 실행 중인 스크립트의 파일 이름을 포함하는 Python 내장 변수입니다. \n",
    "\t\t\t\t\t\t\t이 변수에는 스크립트의 경로가 상대적일 수도 있고 절대적일 수도 있습니다.\n",
    "\t\tos.path.abspath(__file__) - __file__ 변수에 저장된 경로를 절대 경로로 변환합니다. \n",
    "\t\t\t\t\t\t\t\t\t\t\t\t\t\t\t\t즉, 파일 시스템의 루트부터 시작하는 전체 경로를 반환합니다.\n",
    "\t\tos.path.basename(path) - 주어진 경로에서 파일 이름만 추출합니다. \n",
    "\t\t\n",
    "\t\t따라서 이 함수는 os.path.abspath(__file__)에 의해 생성된 절대 경로에서 마지막 부분, 즉 파일의 이름을 반환합니다.\n",
    "\n",
    "\t\t예를 들어, 스크립트의 절대 경로가 /home/user/scripts/my_script.py라면, \n",
    "\t\tos.path.basename(os.path.abspath(__file__))는 my_script.py를 반환합니다. \n",
    "\t\t이렇게 파일 이름을 추출하는 이유는 보통 로깅, 설정 파일 저장 등에서 \n",
    "\t\t현재 실행 중인 스크립트 기반으로 경로나 파일 이름을 설정할 때 유용하게 사용됩니다.\n",
    "\t\t'''\n",
    "    \n",
    "    return file_class\n",
    "\n",
    "# 본 파일(loaddata.py)의 데이터 로드 Class를 선언하고, 실행 함수\n",
    "def main(file_class):    \n",
    "    run_class = dataload(file_class) #brand는 이 스크립트의 특이 추가 인자\n",
    "    run_class()    \n",
    "\n",
    "# 스크립트 실행함수\n",
    "def run(ymd):\n",
    "    file_class = path_class(ymd)\n",
    "    main(file_class)\n",
    "\n",
    "# input 입력 조작 및 run 함수 실행\n",
    "if __name__ == '__main__':\n",
    "    import argparse\n",
    "    parser = argparse.ArgumentParser()\n",
    "    parser.add_argument('--ymd', type=str, default=datetime.datetime.now().strftime('%Y%m%d'))\n",
    "    args, unknown = parser.parse_known_args()\n",
    "    \n",
    "    run(args.ymd)"
   ]
  }
 ],
 "metadata": {
  "kernelspec": {
   "display_name": "basic_env",
   "language": "python",
   "name": "python3"
  },
  "language_info": {
   "codemirror_mode": {
    "name": "ipython",
    "version": 3
   },
   "file_extension": ".py",
   "mimetype": "text/x-python",
   "name": "python",
   "nbconvert_exporter": "python",
   "pygments_lexer": "ipython3",
   "version": "3.10.9"
  }
 },
 "nbformat": 4,
 "nbformat_minor": 2
}
