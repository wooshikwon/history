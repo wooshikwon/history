{
 "cells": [
  {
   "cell_type": "code",
   "execution_count": 1,
   "metadata": {},
   "outputs": [
    {
     "name": "stdout",
     "output_type": "stream",
     "text": [
      "Intel MKL WARNING: Support of Intel(R) Streaming SIMD Extensions 4.2 (Intel(R) SSE4.2) enabled only processors has been deprecated. Intel oneAPI Math Kernel Library 2025.0 will require Intel(R) Advanced Vector Extensions (Intel(R) AVX) instructions.\n",
      "Intel MKL WARNING: Support of Intel(R) Streaming SIMD Extensions 4.2 (Intel(R) SSE4.2) enabled only processors has been deprecated. Intel oneAPI Math Kernel Library 2025.0 will require Intel(R) Advanced Vector Extensions (Intel(R) AVX) instructions.\n"
     ]
    }
   ],
   "source": [
    "import query\n",
    "import security"
   ]
  },
  {
   "cell_type": "code",
   "execution_count": 2,
   "metadata": {},
   "outputs": [],
   "source": [
    "import os\n",
    "import datetime"
   ]
  },
  {
   "cell_type": "code",
   "execution_count": 3,
   "metadata": {},
   "outputs": [],
   "source": [
    "class path_class:\n",
    "    def __init__(self, ymd):\n",
    "\n",
    "        # 디렉토리 path\n",
    "        self.top_path = '/Users/wooshikwon/Desktop/work/sales_validation'\n",
    "        self.raw_path = f'{self.top_path}/data/raw'\n",
    "        self.preprocessed_path = f'{self.top_path}/data/preprocessed'\n",
    "        self.result_path = f'{self.top_path}/result'\n",
    "\n",
    "        # 디렉토리 생성\n",
    "        os.makedirs(self.top_path, exist_ok=True)     \n",
    "        os.makedirs(self.raw_path, exist_ok=True)     \n",
    "        os.makedirs(self.preprocessed_path, exist_ok=True)     \n",
    "        os.makedirs(self.result_path, exist_ok=True)\n"
   ]
  }
 ],
 "metadata": {
  "kernelspec": {
   "display_name": "basic_env",
   "language": "python",
   "name": "python3"
  },
  "language_info": {
   "codemirror_mode": {
    "name": "ipython",
    "version": 3
   },
   "file_extension": ".py",
   "mimetype": "text/x-python",
   "name": "python",
   "nbconvert_exporter": "python",
   "pygments_lexer": "ipython3",
   "version": "3.10.9"
  }
 },
 "nbformat": 4,
 "nbformat_minor": 2
}
